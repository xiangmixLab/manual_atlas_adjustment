{
 "cells": [
  {
   "cell_type": "markdown",
   "metadata": {},
   "source": [
    "# atlas line to adjustable CCFV3 boundaries"
   ]
  },
  {
   "cell_type": "code",
   "execution_count": 1,
   "metadata": {},
   "outputs": [],
   "source": [
    "# pip install opencv-python\n",
    "# pip install tqdm"
   ]
  },
  {
   "cell_type": "code",
   "execution_count": 2,
   "metadata": {},
   "outputs": [],
   "source": [
    "# pip install rdp"
   ]
  },
  {
   "cell_type": "code",
   "execution_count": 3,
   "metadata": {},
   "outputs": [],
   "source": [
    "# pip install ipympl"
   ]
  },
  {
   "cell_type": "code",
   "execution_count": 4,
   "metadata": {},
   "outputs": [],
   "source": [
    "# pip install plotly"
   ]
  },
  {
   "cell_type": "code",
   "execution_count": 5,
   "metadata": {},
   "outputs": [],
   "source": [
    "# pip install ipywidgets>=7.5"
   ]
  },
  {
   "cell_type": "code",
   "execution_count": 6,
   "metadata": {},
   "outputs": [],
   "source": [
    "import sys\n",
    "import cv2\n",
    "import matplotlib.pyplot as plt\n",
    "import matplotlib.image as mpimg\n",
    "import numpy as np\n",
    "import math\n",
    "import copy\n",
    "\n",
    "import plotly.express as px\n",
    "import plotly.graph_objects as go\n",
    "\n",
    "from PIL import Image\n",
    "from skimage.color import rgb2gray\n",
    "from scipy.io import savemat\n",
    "from skimage.morphology import skeletonize, remove_small_holes, binary_dilation, binary_opening, binary_closing, area_opening, area_closing\n",
    "from skimage.measure import label, regionprops\n",
    "from tqdm import tqdm\n",
    "from rdp import rdp\n",
    "from scipy.signal import savgol_filter\n",
    "\n",
    "sys.path.insert(0, 'D:/merfish_registration_110121')\n",
    "sys.path.insert(0, 'D:/MerfishAnalysisModule_121721/adjustable_contour_utility')\n",
    "\n",
    "from distance_trace_edge_extraction import seedSearch, distance_tracing\n",
    "from angle import angle"
   ]
  },
  {
   "cell_type": "markdown",
   "metadata": {},
   "source": [
    "# 1. read image"
   ]
  },
  {
   "cell_type": "code",
   "execution_count": 7,
   "metadata": {},
   "outputs": [],
   "source": [
    "\n",
    "img_dat = Image.open('D:/merfish_registration_110121/slice706.png')\n",
    "img = np.array(img_dat)\n"
   ]
  },
  {
   "cell_type": "code",
   "execution_count": 8,
   "metadata": {},
   "outputs": [],
   "source": [
    "edge_interval=1; # edge resample interval, apply to all_edges_region, all_Edges, all_anchors, and correspondence"
   ]
  },
  {
   "cell_type": "markdown",
   "metadata": {},
   "source": [
    "# 1-1: read cortical color"
   ]
  },
  {
   "cell_type": "code",
   "execution_count": 9,
   "metadata": {},
   "outputs": [],
   "source": [
    "\n",
    "\n",
    "file = 'D:/merfish_registration_110121/cortical_color.txt'\n",
    "my_file = open(file, \"r\")\n",
    "content = my_file.read()\n",
    "content_list = content.split('\\n')\n",
    "my_file.close()\n",
    "\n",
    "cortical_color_set=set()\n",
    "for item in content_list:\n",
    "    item1=item.split('\\t')\n",
    "    item1[0]=int(item1[0])\n",
    "    item1[1]=int(item1[1])\n",
    "    item1[2]=int(item1[2])\n",
    "    cortical_color_set.add(item1[0]*1000000+item1[1]*1000+item1[2])\n",
    "\n"
   ]
  },
  {
   "cell_type": "markdown",
   "metadata": {},
   "source": [
    "# 2. get all unique colors represent different regions"
   ]
  },
  {
   "cell_type": "code",
   "execution_count": 10,
   "metadata": {},
   "outputs": [],
   "source": [
    "\n",
    "row=img.shape[0]\n",
    "col=img.shape[1]\n",
    "\n",
    "all_colorVec=[]\n",
    "color_idx_dict=dict()\n",
    "\n",
    "for i in range(row):\n",
    "    for j in range(col):\n",
    "        colorVec=img[i,j,:]\n",
    "        all_colorVec.append(colorVec)\n",
    "\n",
    "unique_regions = np.unique(all_colorVec, axis=0)\n",
    "unique_regions = unique_regions.tolist()\n",
    "unique_regions.pop()\n",
    "\n",
    "for i in range(len(unique_regions)):\n",
    "    color_idx_dict.update({unique_regions[i][0]*1000000+unique_regions[i][1]*1000+unique_regions[i][2]:unique_regions[i]})"
   ]
  },
  {
   "cell_type": "markdown",
   "metadata": {},
   "source": [
    "# 3. region index assignment, separate cortical and non-cortical regions, clear small regions"
   ]
  },
  {
   "cell_type": "code",
   "execution_count": 11,
   "metadata": {},
   "outputs": [
    {
     "name": "stderr",
     "output_type": "stream",
     "text": [
      "100%|████████████████████████████████████████████████████████████████████████████████████████| 167/167 [00:00<?, ?it/s]\n",
      "100%|████████████████████████████████████████████████████████████████████████████████| 800/800 [00:23<00:00, 33.37it/s]\n"
     ]
    }
   ],
   "source": [
    "\n",
    "curPlot_colorIdx=np.empty(shape=[row,col])\n",
    "\n",
    "bw=np.empty(shape=[row,col])\n",
    "counter=0\n",
    "\n",
    "# 3-1: put unique color to set use hashing\n",
    "colorSet=set()\n",
    "for i in tqdm(range(len(unique_regions))):\n",
    "    colorSet.add(unique_regions[i][0]*1000000+unique_regions[i][1]*1000+unique_regions[i][2])\n",
    "\n",
    "# 3-2: label the atlas with color hashs\n",
    "cortical_idx_list=set()\n",
    "non_cortical_idx_list=set()\n",
    "for j1 in tqdm(range(row)):\n",
    "    for j2 in range(col):\n",
    "        colorVec=img[j1,j2,:]\n",
    "        if (colorVec[0]*1000000+colorVec[1]*1000+colorVec[2]) in colorSet and (colorVec[0]*1000000+colorVec[1]*1000+colorVec[2]) in cortical_color_set:\n",
    "            curPlot_colorIdx[j1][j2]=colorVec[0]*1000000+colorVec[1]*1000+colorVec[2]\n",
    "            cortical_idx_list.add(colorVec[0]*1000000+colorVec[1]*1000+colorVec[2])\n",
    "        if (colorVec[0]*1000000+colorVec[1]*1000+colorVec[2]) in colorSet and (colorVec[0]*1000000+colorVec[1]*1000+colorVec[2]) not in cortical_color_set:\n",
    "            curPlot_colorIdx[j1][j2]=colorVec[0]*1000000+colorVec[1]*1000+colorVec[2]\n",
    "            non_cortical_idx_list.add(colorVec[0]*1000000+colorVec[1]*1000+colorVec[2])"
   ]
  },
  {
   "cell_type": "code",
   "execution_count": 12,
   "metadata": {},
   "outputs": [],
   "source": [
    "\n",
    "all_edges_region=dict()\n",
    "all_edges_region_idx=dict()\n",
    "all_edges_region_idx_rev=dict()\n",
    "\n",
    "counter=0"
   ]
  },
  {
   "cell_type": "markdown",
   "metadata": {},
   "source": [
    "# 3-2: get region based edges, cortical area"
   ]
  },
  {
   "cell_type": "code",
   "execution_count": 13,
   "metadata": {},
   "outputs": [
    {
     "name": "stderr",
     "output_type": "stream",
     "text": [
      "100%|██████████████████████████████████████████████████████████████████████████████████| 72/72 [00:11<00:00,  6.41it/s]\n"
     ]
    }
   ],
   "source": [
    "\n",
    "for curIdx in tqdm(cortical_idx_list):\n",
    "    curPlot_region=(curPlot_colorIdx==curIdx)\n",
    "    curPlot_region=binary_opening(curPlot_region)\n",
    "    curPlot_region=remove_small_holes(curPlot_region)\n",
    "    curPlot_region=255*(curPlot_region) # convert boolean to int\n",
    "    \n",
    "    curPlot_region=np.flip(curPlot_region,0)\n",
    "    \n",
    "    edges = cv2.Laplacian(curPlot_region.astype(float),cv2.CV_64F)\n",
    "    bw1=edges>0\n",
    "    \n",
    "    p=regionprops(label(bw1))\n",
    "    \n",
    "    # add all contours\n",
    "    all_curEdge_idx=[]\n",
    "    for i in range(len(p)):\n",
    "        \n",
    "        contoursCur=p[i].coords\n",
    "        contoursCur=contoursCur.tolist()\n",
    "        \n",
    "        # swap i,j to x,y\n",
    "        for item in contoursCur:\n",
    "            item[0], item[1] = item[1], item[0]\n",
    "        \n",
    "        # use distance tracing to loop the contour: find seed\n",
    "        seeds=seedSearch(contoursCur)\n",
    "\n",
    "        # if the contour is a circle then seeds can be empty, insert 0 instead\n",
    "        if len(seeds)==0:\n",
    "            seeds=[0]\n",
    "\n",
    "        contoursCur1=distance_tracing(seeds[0],contoursCur,edge_interval)\n",
    "        \n",
    "        #contoursCur1.append(contoursCur1[0])\n",
    "\n",
    "        if len(contoursCur1[0])>=10:\n",
    "            all_edges_region.update({counter:contoursCur1[0]})\n",
    "            all_curEdge_idx.append(counter)\n",
    "            all_edges_region_idx_rev.update({counter:curIdx})\n",
    "            counter=counter+1\n",
    "        \n",
    "    all_edges_region_idx.update({curIdx:all_curEdge_idx})"
   ]
  },
  {
   "cell_type": "markdown",
   "metadata": {},
   "source": [
    "# 3-3: get region based edges, non-cortical area"
   ]
  },
  {
   "cell_type": "code",
   "execution_count": 14,
   "metadata": {},
   "outputs": [
    {
     "name": "stderr",
     "output_type": "stream",
     "text": [
      "100%|██████████████████████████████████████████████████████████████████████████████████| 95/95 [00:27<00:00,  3.46it/s]\n"
     ]
    }
   ],
   "source": [
    "\n",
    "for curIdx in tqdm(non_cortical_idx_list):\n",
    "    curPlot_region=(curPlot_colorIdx==curIdx)\n",
    "    curPlot_region=binary_opening(curPlot_region)\n",
    "    curPlot_region=remove_small_holes(curPlot_region)\n",
    "    curPlot_region=255*(curPlot_region) # convert boolean to int\n",
    "    \n",
    "    curPlot_region=np.flip(curPlot_region,0)\n",
    "    \n",
    "    edges = cv2.Laplacian(curPlot_region.astype(float),cv2.CV_64F)\n",
    "    bw1=edges>0\n",
    "    \n",
    "    p=regionprops(label(bw1))\n",
    "    \n",
    "    # add all contours\n",
    "            \n",
    "    all_curEdge_idx=[]\n",
    "    for i in range(len(p)):\n",
    "        \n",
    "        contoursCur=p[i].coords\n",
    "        contoursCur=contoursCur.tolist()\n",
    "        \n",
    "        # swap i,j to x,y\n",
    "        for item in contoursCur:\n",
    "            item[0], item[1] = item[1], item[0]\n",
    "        \n",
    "        # use distance tracing to loop the contour: find seed\n",
    "        seeds=seedSearch(contoursCur)\n",
    "\n",
    "        # if the contour is a circle then seeds can be empty, insert 0 instead\n",
    "        if len(seeds)==0:\n",
    "            seeds=[0]\n",
    "        \n",
    "        contoursCur1=distance_tracing(seeds[0],contoursCur,edge_interval)\n",
    "        \n",
    "        #contoursCur1.append(contoursCur1[0])\n",
    "\n",
    "            \n",
    "        if len(contoursCur1[0])>=10:\n",
    "            all_edges_region.update({counter:contoursCur1[0]})\n",
    "            all_curEdge_idx.append(counter)\n",
    "            all_edges_region_idx_rev.update({counter:curIdx})\n",
    "            counter=counter+1\n",
    "        \n",
    "    all_edges_region_idx.update({curIdx:all_curEdge_idx})"
   ]
  },
  {
   "cell_type": "code",
   "execution_count": 15,
   "metadata": {},
   "outputs": [
    {
     "data": {
      "image/png": "[encoded data removed]",
      "text/plain": [
       "<Figure size 432x288 with 1 Axes>"
      ]
     },
     "metadata": {
      "needs_background": "light"
     },
     "output_type": "display_data"
    }
   ],
   "source": [
    "curIdx=11*1000000+12*1000+13\n",
    "curPlot_region=(curPlot_colorIdx==curIdx)\n",
    "curPlot_region=binary_opening(curPlot_region)\n",
    "curPlot_region=remove_small_holes(curPlot_region)\n",
    "curPlot_region=255*(curPlot_region) # convert boolean to int\n",
    "\n",
    "curPlot_region=np.flip(curPlot_region,0)\n",
    "\n",
    "edges = cv2.Laplacian(curPlot_region.astype(float),cv2.CV_64F)\n",
    "bw1=edges>0\n",
    "\n",
    "p=regionprops(label(bw1))\n",
    "\n",
    "for i in range(len(p)):\n",
    "        \n",
    "    contoursCur=p[i].coords\n",
    "    contoursCur=contoursCur.tolist()\n",
    "\n",
    "    # swap i,j to x,y\n",
    "    for item in contoursCur:\n",
    "        item[0], item[1] = item[1], item[0]\n",
    "    \n",
    "    \n",
    "    \n",
    "    seeds=seedSearch(contoursCur)\n",
    "\n",
    "    # if the contour is a circle then seeds can be empty, insert 0 instead\n",
    "    if len(seeds)==0:\n",
    "        seeds=[0]\n",
    "\n",
    "    contoursCur1=distance_tracing(seeds[0],contoursCur,edge_interval)\n",
    "\n",
    "    x=[contoursCur1[0][i][0] for i in range(len(contoursCur1[0]))]\n",
    "    y=[contoursCur1[0][i][1] for i in range(len(contoursCur1[0]))]\n",
    "\n",
    "    plt.plot(x,y)\n",
    "\n",
    "plt.show()"
   ]
  },
  {
   "cell_type": "code",
   "execution_count": 16,
   "metadata": {},
   "outputs": [
    {
     "data": {
      "image/png": "[encoded data removed]",
      "text/plain": [
       "<Figure size 432x288 with 1 Axes>"
      ]
     },
     "metadata": {
      "needs_background": "light"
     },
     "output_type": "display_data"
    }
   ],
   "source": [
    "curEdgePlot=np.empty(shape=[row,col])\n",
    "\n",
    "for key, value in all_edges_region.items():\n",
    "    curEdge=value\n",
    "    for j in range(len(curEdge)):\n",
    "        curEdgePlot[curEdge[j][1],curEdge[j][0]]=255\n",
    "        \n",
    "# fig=px.imshow(curEdgePlot)\n",
    "# fig.show()\n",
    "plt.imshow(curEdgePlot)\n",
    "plt.imsave(\"D:/merfish_registration_110121/testEdgesNew_cortical.tiff\", curEdgePlot)"
   ]
  },
  {
   "cell_type": "code",
   "execution_count": 17,
   "metadata": {},
   "outputs": [
    {
     "data": {
      "image/png": "[encoded data removed]",
      "text/plain": [
       "<Figure size 432x288 with 1 Axes>"
      ]
     },
     "metadata": {
      "needs_background": "light"
     },
     "output_type": "display_data"
    }
   ],
   "source": [
    "len(all_edges_region)\n",
    "curEdge=all_edges_region.get(1)\n",
    "x=[curEdge[i][0] for i in range(len(curEdge))]\n",
    "y=[curEdge[i][1] for i in range(len(curEdge))]\n",
    "\n",
    "plt.plot(x,y)\n",
    "plt.savefig(\"D:/merfish_registration_110121/single_region_Edge.tiff\")"
   ]
  },
  {
   "cell_type": "markdown",
   "metadata": {},
   "source": [
    "# 5-1: relabel the edge atlas (with 2-pixel wide edges) so that the 2-pixel wide edges will be assigned with unique index"
   ]
  },
  {
   "cell_type": "code",
   "execution_count": 18,
   "metadata": {},
   "outputs": [],
   "source": [
    "\n",
    "# generate edge matrix\n",
    "curEdgePlot=np.empty(shape=[row,col])\n",
    "\n",
    "for key, value in all_edges_region.items():\n",
    "    curEdge=value\n",
    "    for j in range(len(curEdge)):\n",
    "        curEdgePlot[curEdge[j][1],curEdge[j][0]]=key+1 # key start with 0, remember to adjust back\n",
    "\n",
    "# generate single edge matrix\n",
    "img_gray=rgb2gray(img)\n",
    "edges_detected = cv2.Laplacian(img_gray,cv2.CV_64F)\n",
    "bw=edges_detected>0\n",
    "bw=np.flip(bw,0)"
   ]
  },
  {
   "cell_type": "code",
   "execution_count": 19,
   "metadata": {},
   "outputs": [
    {
     "data": {
      "image/png": "[encoded data removed]",
      "text/plain": [
       "<Figure size 432x288 with 1 Axes>"
      ]
     },
     "metadata": {
      "needs_background": "light"
     },
     "output_type": "display_data"
    }
   ],
   "source": [
    "plt.imshow(curEdgePlot)\n",
    "savemat(\"D:/merfish_registration_110121/test_labeled_edge_123121.mat\", {\"bw\":bw})\n",
    "savemat(\"D:/merfish_registration_110121/test_labeled_edge_curEdgePlot_123121.mat\", {\"curEdgePlot\":curEdgePlot})"
   ]
  },
  {
   "cell_type": "markdown",
   "metadata": {},
   "source": [
    "# 5-1-1: relabeling process"
   ]
  },
  {
   "cell_type": "code",
   "execution_count": 20,
   "metadata": {},
   "outputs": [],
   "source": [
    "\n",
    "edge_dict = dict()\n",
    "edge_dict_rev=dict()\n",
    "edge_idx_use=1\n",
    "curEdgePlot_Labeled=np.empty(shape=[row,col])\n",
    "bw_reLabeled=np.empty(shape=[row,col])\n",
    "\n",
    "for i in range(5,bw.shape[0]-5):\n",
    "    for j in range(5,bw.shape[1]-5):\n",
    "        \n",
    "        if bw[i][j]>0:\n",
    "            \n",
    "            # check if current point's neighbors are empty (isolated pt)\n",
    "            sumPt=0;\n",
    "            for u in range(-1,2):\n",
    "                for v in range(-1,2):\n",
    "                    sumPt=sumPt+int(bw[i+u][j+v]>0)\n",
    "            \n",
    "            if sumPt<3:\n",
    "                continue\n",
    "                        \n",
    "            idx_temp=[int(curEdgePlot[i-1,j-1]),int(curEdgePlot[i+1,j+1]),int(curEdgePlot[i+1,j-1]),int(curEdgePlot[i-1,j+1]),int(curEdgePlot[i+1,j]),int(curEdgePlot[i-1,j]),int(curEdgePlot[i,j+1]),int(curEdgePlot[i,j-1])]\n",
    "            idx_temp=np.unique(idx_temp)\n",
    "            idx_temp=np.delete(idx_temp,0,None)\n",
    "            cur_edge=0;\n",
    "            \n",
    "            if str(idx_temp-1) not in edge_dict.keys():\n",
    "                edge_dict.update({str(idx_temp-1):edge_idx_use})\n",
    "                edge_dict_rev.update({edge_idx_use:idx_temp-1})\n",
    "                cur_edge=edge_idx_use;\n",
    "                edge_idx_use=edge_idx_use+1;\n",
    "            else:\n",
    "                cur_edge=edge_dict.get(str(idx_temp-1))\n",
    "            \n",
    "            for k1 in range(-1,2):\n",
    "                for k2 in range(-1,2):\n",
    "                    if curEdgePlot[i+k1][j+k2]>0:\n",
    "                        curEdgePlot_Labeled[i+k1][j+k2]=cur_edge\n",
    "            \n",
    "            bw_reLabeled[i][j]=cur_edge\n",
    "        "
   ]
  },
  {
   "cell_type": "markdown",
   "metadata": {},
   "source": [
    "# 5-1-2: construct a region edge coordination finder"
   ]
  },
  {
   "cell_type": "code",
   "execution_count": 21,
   "metadata": {},
   "outputs": [],
   "source": [
    "\n",
    "\n",
    "\n",
    "all_edges_region_RegionIdxSearch=dict() # coor: [regionkey,unifiedEdgeIdx,region_edge_posi]\n",
    "unifiedIdx_regionEdgeSearch=dict()\n",
    "\n",
    "for key, value in all_edges_region.items():\n",
    "    for i in range(len(value)):\n",
    "        unifiedEdgeIdx=curEdgePlot_Labeled[value[i][1]][value[i][0]]\n",
    "        all_edges_region_RegionIdxSearch.update({str(value[i]):[key,unifiedEdgeIdx,i]}) # [current edge idx, position in current edge]\n"
   ]
  },
  {
   "cell_type": "code",
   "execution_count": 22,
   "metadata": {},
   "outputs": [],
   "source": [
    "# now the pipeline is established: we can get the edges for both the regions and single edges, modified single edges and roughly \n",
    "# align single edges with region edges, generate the final modified atlas\n",
    "\n",
    "## however the process need refinement. \n",
    "# 1. refine the alignment: is there a way to better determine the points besides calculating the distance between single edge and \n",
    "# region edge (which have duplicates and errors)\n",
    "\n",
    "# 2. refine the edge modification: the intersection modification is not fixed yet. maybe utilize region based edges for help?\n",
    "\n",
    "# 3. refine calculation time"
   ]
  },
  {
   "cell_type": "markdown",
   "metadata": {},
   "source": [
    "# 5-2: separate unique edges"
   ]
  },
  {
   "cell_type": "markdown",
   "metadata": {},
   "source": [
    "# 5-2-1: edges to dict"
   ]
  },
  {
   "cell_type": "code",
   "execution_count": 23,
   "metadata": {},
   "outputs": [
    {
     "name": "stdout",
     "output_type": "stream",
     "text": [
      "finish putting edges to dict\n"
     ]
    }
   ],
   "source": [
    "\n",
    "edges_finder=dict()\n",
    "for i in range(bw_reLabeled.shape[0]):\n",
    "    for j in range(bw_reLabeled.shape[1]):\n",
    "        if bw_reLabeled[i][j]>0:\n",
    "            cur_edge=edges_finder.get(bw_reLabeled[i][j])\n",
    "            if cur_edge==None:\n",
    "                cur_edge=[]\n",
    "                cur_edge.append([i,j])\n",
    "            else:\n",
    "                cur_edge.append([i,j])\n",
    "            \n",
    "            edges_finder.update({bw_reLabeled[i][j]:cur_edge})\n",
    "\n",
    "print('finish putting edges to dict')"
   ]
  },
  {
   "cell_type": "code",
   "execution_count": 24,
   "metadata": {},
   "outputs": [
    {
     "data": {
      "text/plain": [
       "2172"
      ]
     },
     "execution_count": 24,
     "metadata": {},
     "output_type": "execute_result"
    }
   ],
   "source": [
    "len(edges_finder)"
   ]
  },
  {
   "cell_type": "markdown",
   "metadata": {},
   "source": [
    "# 5-2-2: separate unique edges"
   ]
  },
  {
   "cell_type": "code",
   "execution_count": 25,
   "metadata": {},
   "outputs": [
    {
     "name": "stderr",
     "output_type": "stream",
     "text": [
      "100%|██████████████████████████████████████████████████████████████████████████████| 2172/2172 [00:23<00:00, 90.55it/s]\n"
     ]
    }
   ],
   "source": [
    "\n",
    "all_edges=dict();\n",
    "all_edges_seed=dict();\n",
    "\n",
    "for key, value in tqdm(edges_finder.items()): \n",
    "    \n",
    "    # put all edges to a img\n",
    "    cur_edge_plot=np.zeros(shape=bw_reLabeled.shape,dtype=np.uint8)\n",
    "    for i in range(len(value)):\n",
    "        cur_edge_plot[value[i][0]][value[i][1]]=255\n",
    "    \n",
    "    #detect contours in image\n",
    "    p=regionprops(label(cur_edge_plot))\n",
    "    \n",
    "    # add all contours\n",
    "    all_cur_edges=[];\n",
    "    all_cur_seeds=[];\n",
    "    for i in range(len(p)):\n",
    "        \n",
    "        contoursCur=p[i].coords\n",
    "        contoursCur=contoursCur.tolist()\n",
    "        \n",
    "        # swap i,j to x,y\n",
    "        for item in contoursCur:\n",
    "            item[0], item[1] = item[1], item[0]\n",
    "        \n",
    "        # use distance tracing to loop the contour: find seed\n",
    "        seeds=seedSearch(contoursCur)\n",
    "\n",
    "        # if the contour is a circle then seeds can be empty, insert 0 instead\n",
    "        if len(seeds)==0:\n",
    "            seeds=[0]\n",
    "        \n",
    "        contoursCur1=distance_tracing(seeds[0],contoursCur,edge_interval)\n",
    "        if len(contoursCur1[0])>=5:\n",
    "            all_cur_edges.append(contoursCur1[0])\n",
    "            all_cur_seeds.append(seeds[0])\n",
    "    #print(contours)\n",
    "    \n",
    "    if len(all_cur_edges)>0:    \n",
    "        all_edges.update({key:all_cur_edges})\n",
    "        all_edges_seed.update({key:all_cur_seeds})"
   ]
  },
  {
   "cell_type": "markdown",
   "metadata": {},
   "source": [
    "# 5-2-3: all_edges ---- all_edges_region correspondence"
   ]
  },
  {
   "cell_type": "code",
   "execution_count": 26,
   "metadata": {},
   "outputs": [
    {
     "name": "stderr",
     "output_type": "stream",
     "text": [
      "100%|████████████████████████████████████████████████████████████████████████████████| 989/989 [00:21<00:00, 46.48it/s]\n"
     ]
    }
   ],
   "source": [
    "\n",
    "# this time, all_edges have one2one key:edge correspondence due to our curEdgePlot design\n",
    "        \n",
    "for key, value in tqdm(all_edges.items()): # key: unified edge idx, value: edge coor\n",
    "    \n",
    "    region_edges_idx=edge_dict_rev.get(key)\n",
    "    \n",
    "    all_curEdges_region_dict=dict()\n",
    "\n",
    "    for i in range(len(region_edges_idx)):\n",
    "        \n",
    "        curEdge=all_edges_region.get(region_edges_idx[i])\n",
    "        curEdge_selectedIdx=[]\n",
    "        \n",
    "        for k1 in range(len(value[0])):\n",
    "            dis2regionEdge=[]\n",
    "            for k in range(len(curEdge)):\n",
    "                dis2regionEdge.append(math.sqrt((value[0][k1][0]-curEdge[k][0])**2+(value[0][k1][1]-curEdge[k][1])**2))\n",
    "\n",
    "            curIdx=dis2regionEdge.index(min(dis2regionEdge))\n",
    "            \n",
    "            curEdge_selectedIdx.append(curIdx) \n",
    "        \n",
    "        all_curEdges_region_dict.update({region_edges_idx[i]:curEdge_selectedIdx})\n",
    "    \n",
    "    unifiedIdx_regionEdgeSearch.update({key:all_curEdges_region_dict})"
   ]
  },
  {
   "cell_type": "code",
   "execution_count": 27,
   "metadata": {},
   "outputs": [
    {
     "data": {
      "image/png": "[encoded data removed]",
      "text/plain": [
       "<Figure size 432x288 with 1 Axes>"
      ]
     },
     "metadata": {
      "needs_background": "light"
     },
     "output_type": "display_data"
    }
   ],
   "source": [
    "# illustrate \n",
    "value=all_edges.get(key)\n",
    "region_edges_idx=edge_dict_rev.get(key)\n",
    "curEdge=all_edges_region.get(region_edges_idx[0])\n",
    "\n",
    "curEdge_selectedIdx=unifiedIdx_regionEdgeSearch.get(key)\n",
    "curEdge_selectedIdx=curEdge_selectedIdx.get(region_edges_idx[0])\n",
    "\n",
    "x=[curEdge[i][0] for i in curEdge_selectedIdx]\n",
    "y=[curEdge[i][1] for i in curEdge_selectedIdx]\n",
    "\n",
    "plt.plot(x,y)\n",
    "\n",
    "x1=[value[0][i][0] for i in range(len(value[0]))]\n",
    "y1=[value[0][i][1] for i in range(len(value[0]))]\n",
    "\n",
    "plt.plot(x1,y1)\n",
    "\n",
    "curEdge=all_edges_region.get(region_edges_idx[0])\n",
    "\n",
    "\n",
    "plt.show()"
   ]
  },
  {
   "cell_type": "markdown",
   "metadata": {},
   "source": [
    "# 5-3: construct a all_edges_idxSearch for quick search idxs using coor"
   ]
  },
  {
   "cell_type": "code",
   "execution_count": 28,
   "metadata": {},
   "outputs": [],
   "source": [
    "\n",
    "all_edges_posSearch=dict()\n",
    "for key, value in all_edges.items():\n",
    "    for i in range(len(value)):\n",
    "        for j in range(len(value[i])):\n",
    "            all_edges_posSearch.update({str(value[i][j]):[str(i)+\" \"+str(j)]})"
   ]
  },
  {
   "cell_type": "markdown",
   "metadata": {},
   "source": [
    "# 6. anchor assignment, each anchor should be regarded as a class contains its coor, its line assignment, and its neighbors"
   ]
  },
  {
   "cell_type": "code",
   "execution_count": 29,
   "metadata": {},
   "outputs": [],
   "source": [
    "\n",
    "class Anchor:\n",
    "    def __init__(self, x, y):\n",
    "        self.x = x\n",
    "        self.y = y\n",
    "        self.lines=set()\n",
    "        self.neighbors=dict() # the var for instantces should be placed in _init_ or it will act similar to java static var?"
   ]
  },
  {
   "cell_type": "markdown",
   "metadata": {},
   "source": [
    "# 6-1. for each edge, calculate anchors independently."
   ]
  },
  {
   "cell_type": "code",
   "execution_count": 30,
   "metadata": {},
   "outputs": [],
   "source": [
    "\n",
    "\n",
    "all_anchors=[]\n",
    "\n",
    "for key, value in all_edges.items():\n",
    "    #archors=[]\n",
    "    for i in range(len(value)):   \n",
    "        \n",
    "        interval=30\n",
    "        \n",
    "        # case 1: line length <= interval, only add anchors at two end\n",
    "        if len(value[i])<=interval:\n",
    "            a1=Anchor(value[i][0][0],value[i][0][1])\n",
    "            a2=Anchor(value[i][len(value[i])-1][0],value[i][len(value[i])-1][1])\n",
    "            a1.lines.add(key)\n",
    "            a2.lines.add(key)\n",
    "            a1.neighbors.update({key:[a2]})\n",
    "            a2.neighbors.update({key:[a1]})\n",
    "            \n",
    "            all_anchors.append(a1)\n",
    "            all_anchors.append(a2)\n",
    "            \n",
    "        # case 2: line length >40 every anchor points with interval of math.min(40,len[value[i]]/math.ceil(len[value[i]]/40)), include begin and end\n",
    "        # it as interval\n",
    "        if len(value[i])>interval:  \n",
    "            interval=min([interval,int(len(value[i])/math.ceil(len(value[i])/interval))])\n",
    "            a=[]\n",
    "            \n",
    "            # add anchors\n",
    "            for j in range(0,len(value[i])-1,interval):\n",
    "                a.append(Anchor(value[i][j][0],value[i][j][1]))\n",
    "            a.append(Anchor(value[i][len(value[i])-1][0],value[i][len(value[i])-1][1]))\n",
    "            \n",
    "            # anchors add neghbors, line correspondence\n",
    "            for j in range(len(a)):\n",
    "                at=a[j]\n",
    "                if j==0:\n",
    "                    at.neighbors.update({key:[a[j+1]]})\n",
    "                elif j==len(a)-1:\n",
    "                    at.neighbors.update({key:[a[j-1]]})\n",
    "                else:\n",
    "                    at.neighbors.update({key:[a[j-1],a[j+1]]})\n",
    "                \n",
    "                at.lines.add(key)\n",
    "                a[j]=at # if reference by val this is not needed\n",
    "                \n",
    "            # add to all anchors\n",
    "            for j in range(len(a)):\n",
    "                all_anchors.append(a[j])"
   ]
  },
  {
   "cell_type": "markdown",
   "metadata": {},
   "source": [
    "# 6-2. merge very close anchors that actually represent the same anchor"
   ]
  },
  {
   "cell_type": "code",
   "execution_count": 31,
   "metadata": {},
   "outputs": [],
   "source": [
    "\n",
    "\n",
    "del_idx=set()\n",
    "\n",
    "for i in range(len(all_anchors)):\n",
    "    if i not in del_idx:\n",
    "        at=all_anchors[i]\n",
    "        for j in range(len(all_anchors)):\n",
    "            at1=all_anchors[j]\n",
    "            # for all points on the same line, their interval should be >=5, so line assignment collsion won't happen\n",
    "            if j != i and math.sqrt((at.x-at1.x)**2+(at.y-at1.y)**2)<=2: # only neighborhood points\n",
    "                #at.x=int((at.x+at1.x)/2) # these will make edge search impossible\n",
    "                #at.y=int((at.y+at1.y)/2)\n",
    "                at.x=int(at.x)\n",
    "                at.y=int(at.y)\n",
    "                at.neighbors.update(at1.neighbors) # at1's neighbors all the nei points that is on the same line with at1\n",
    "                at.lines=set.union(at.lines,at1.lines)\n",
    "                all_anchors[i]=at # if reference by val this is not needed\n",
    "\n",
    "                del_idx.add(j)\n",
    "\n",
    "all_anchors_dedup=[all_anchors[j] for j in range(len(all_anchors)) if j not in del_idx]\n",
    "\n",
    "# all_anchors_dedup: formulate a set for quick reference by mouse click\n",
    "all_anchors_dict=dict()\n",
    "for i in range(len(all_anchors_dedup)):\n",
    "    all_anchors_dict.update({\"[\"+str(int(all_anchors_dedup[i].x))+\", \"+str(int(all_anchors_dedup[i].y))+\"]\":all_anchors_dedup[i]})"
   ]
  },
  {
   "cell_type": "code",
   "execution_count": 32,
   "metadata": {},
   "outputs": [],
   "source": [
    "all_anchors_dedup=all_anchors\n",
    "all_anchors_dict=dict()\n",
    "for i in range(len(all_anchors_dedup)):\n",
    "    all_anchors_dict.update({\"[\"+str(int(all_anchors_dedup[i].x))+\", \"+str(int(all_anchors_dedup[i].y))+\"]\":all_anchors_dedup[i]})"
   ]
  },
  {
   "cell_type": "code",
   "execution_count": 33,
   "metadata": {},
   "outputs": [],
   "source": [
    "import pyglet\n",
    "from pyglet.window import key\n",
    "from pyglet.window import mouse\n",
    "from pyglet import shapes\n",
    "from pyglet import text\n",
    "from pyglet import image\n",
    "from pyglet import sprite"
   ]
  },
  {
   "cell_type": "code",
   "execution_count": 34,
   "metadata": {},
   "outputs": [
    {
     "name": "stderr",
     "output_type": "stream",
     "text": [
      "C:\\Users\\xulab\\anaconda3\\lib\\site-packages\\pyglet\\image\\codecs\\wic.py:289: UserWarning: [WinError -2147417850] Cannot change thread mode after it is set\n",
      "  warnings.warn(str(err))\n"
     ]
    }
   ],
   "source": [
    "batch = pyglet.graphics.Batch()\n",
    "\n",
    "ball_image = pyglet.image.load('D:/merfish_registration_110121/example_merfish_data_icpRegistered_resized.tif')\n",
    "xv=20\n",
    "yv=20\n",
    "pic_sprite=pyglet.sprite.Sprite(ball_image,x=xv,y=xv)\n",
    "\n",
    "# utility variables\n",
    "items=[]\n",
    "labels=[]\n",
    "selectedEdge=[None];\n",
    "selectedPt=[None];\n",
    "modifiedEdge=set();"
   ]
  },
  {
   "cell_type": "markdown",
   "metadata": {},
   "source": [
    "#  7. drawing utility"
   ]
  },
  {
   "cell_type": "code",
   "execution_count": 35,
   "metadata": {},
   "outputs": [],
   "source": [
    "GUI_line_search=dict()\n",
    "GUI_anchor_search=dict()\n",
    "\n",
    "# add lines\n",
    "counter=0;\n",
    "for key, value in all_edges.items():\n",
    "    for i in range(len(value)):\n",
    "        curCounterList=[];\n",
    "        for j in range(len(value[i])-1):\n",
    "            items.append(shapes.Line(value[i][j][0], value[i][j][1], value[i][j+1][0], value[i][j+1][1], width=3,batch=batch,color=[0,150,200])) \n",
    "            curCounterList.append(counter)\n",
    "            counter=counter+1\n",
    "        GUI_line_search.update({str([key,i]):curCounterList})\n",
    "            \n",
    "\n",
    "# add anchors\n",
    "for key, value in all_anchors_dict.items():\n",
    "    items.append(shapes.Rectangle(value.x-4, value.y-4, 8, 8, batch=batch,color=[60,220,50]))  \n",
    "    GUI_anchor_search.update({\"[\"+str(value.x)+\", \"+str(value.y)+\"]\":counter})\n",
    "    counter=counter+1\n",
    "\n",
    "# text labels for debug purpose\n",
    "for key, value in all_edges.items():\n",
    "    for i in range(len(value)):\n",
    "        if(len(value[i])<=40):\n",
    "            labels.append(text.Label(str([len(value[i])]), font_size=10,x=value[i][0][0], y=value[i][0][1]))   "
   ]
  },
  {
   "cell_type": "code",
   "execution_count": 36,
   "metadata": {},
   "outputs": [],
   "source": [
    "window = pyglet.window.Window(width=1140, height=800)"
   ]
  },
  {
   "cell_type": "code",
   "execution_count": 37,
   "metadata": {},
   "outputs": [],
   "source": [
    "\n",
    "@window.event\n",
    "def on_mouse_press(x, y, button, modifiers):\n",
    "    if button == mouse.LEFT:\n",
    "        \n",
    "        selectedEdge[0]=None\n",
    "        selectedPt[0]=None\n",
    "        print([x,y])\n",
    "        for i in range(0,82):\n",
    "            anchorCur=all_anchors_dict.get(\"[\"+str(x+int(i/10)-4)+\", \"+str(y+int(i%10)-4)+\"]\")\n",
    "            \n",
    "            if anchorCur!=None:\n",
    "                selectedEdge[0]=copy.deepcopy(anchorCur.lines)\n",
    "                selectedPt[0]=anchorCur\n",
    "                print(\"get edges: \"+str(selectedEdge[0]))\n",
    "                break\n",
    "            \n",
    "                \n",
    "        \n",
    "@window.event\n",
    "def on_mouse_drag(x, y, dx, dy, buttons, modifiers):\n",
    "    # if on archor pt, \n",
    "    if selectedEdge[0]!=None:\n",
    "        \n",
    "        # -1. get the modified anchor\n",
    "        selectedEdge[0]=copy.deepcopy(selectedPt[0].lines)\n",
    "        selectedPt_1=[selectedPt[0].x,selectedPt[0].y]\n",
    "        selectedPt_1[0]=int(selectedPt_1[0]+dx)\n",
    "        selectedPt_1[1]=int(selectedPt_1[1]+dy)\n",
    "                \n",
    "        print(\"start drag\")  \n",
    "        # 0. loop all possible edges the anchor connected to\n",
    "        while len(selectedEdge[0])>0:\n",
    "            \n",
    "            curEdgeIdx=selectedEdge[0].pop()\n",
    "            print(curEdgeIdx)\n",
    "            curEdge=all_edges.get(curEdgeIdx)\n",
    "            archorPts=selectedPt[0].neighbors.get(curEdgeIdx)\n",
    "            \n",
    "            all_edges_pt_idx=all_edges_posSearch.get(str([selectedPt[0].x,selectedPt[0].y]))\n",
    "            all_edges_pt_idx_1=int(all_edges_pt_idx[0][2:])\n",
    "            curEdgeSelect=int(all_edges_pt_idx[0][0])\n",
    "            \n",
    "            # 1. loop all possible neighborhood points on this edge, update the whole curEdge\n",
    "            for i in range(len(archorPts)):\n",
    "                print(\"all_edges_anchors_idx: \"+str(archorPts[i].x)+\",\"+str(archorPts[i].y)+\" \"+str(selectedPt_1[0])+\",\"+str(selectedPt_1[1]))\n",
    "\n",
    "                neighbor_archor1_1=[archorPts[i].x,archorPts[i].y]\n",
    "                print(\"test1-2\")\n",
    "\n",
    "                print(\"neighbor_archor1_1: \"+str(neighbor_archor1_1))\n",
    "                all_edges_nArchor1_idx=all_edges_posSearch.get(str([archorPts[i].x,archorPts[i].y]))\n",
    "                all_edges_nArchor1_idx_1=int(all_edges_nArchor1_idx[0][2:])               \n",
    "\n",
    "                print(\"test1-3\")\n",
    "\n",
    "                pt1=min([all_edges_nArchor1_idx_1,all_edges_pt_idx_1])\n",
    "                pt2=max([all_edges_nArchor1_idx_1,all_edges_pt_idx_1])\n",
    "\n",
    "                pts=[neighbor_archor1_1,selectedPt_1]\n",
    "                pts_idx=[all_edges_nArchor1_idx_1,all_edges_pt_idx_1]\n",
    "                pt1_val=pts[pts_idx.index(pt1)]\n",
    "                pt2_val=pts[pts_idx.index(pt2)]\n",
    "\n",
    "                xCur=pt1_val[0]\n",
    "\n",
    "                print(pt1_val)\n",
    "                print(pt2_val)\n",
    "                for i in range(pt1+1,pt2):\n",
    "                    if float(selectedPt_1[0])-float(neighbor_archor1_1[0])!=0:\n",
    "                        # 1. slope update\n",
    "                        a=(float(selectedPt_1[1])-float(neighbor_archor1_1[1]))/(float(selectedPt_1[0])-float(neighbor_archor1_1[0]))\n",
    "                        b=float(neighbor_archor1_1[1])-a*float(neighbor_archor1_1[0])\n",
    "\n",
    "                        # 2. value range update, scale the x coor for each pt\n",
    "                        new_x_interval=(pt2_val[0]-pt1_val[0])/(pt2-pt1)\n",
    "\n",
    "                        # 3. update pts according to new x and y\n",
    "                        curPt=curEdge[curEdgeSelect][i]\n",
    "\n",
    "                        xCur=xCur+new_x_interval\n",
    "                        curPt[0]=int(xCur)\n",
    "                        curPt[1]=int(a*xCur+b)\n",
    "                        curEdge[curEdgeSelect][i]=curPt \n",
    "                    else:\n",
    "                        curPt=curEdge[curEdgeSelect][i]\n",
    "                        curPt[1]=selectedPt_1[1]\n",
    "                        curEdge[curEdgeSelect][i]=curPt \n",
    "\n",
    "                curEdge[curEdgeSelect][pt1]=pt1_val\n",
    "                curEdge[curEdgeSelect][pt2]=pt2_val\n",
    "                print(\"test1-5\")\n",
    "                \n",
    "            all_edges.pop(curEdgeIdx)\n",
    "            all_edges.update({curEdgeIdx:curEdge})\n",
    "            modifiedEdge.add(curEdgeIdx)\n",
    "            print(\"test1-6\")   \n",
    "            print(\"curEdge update finished\")\n",
    "            \n",
    "            # 2. update graphic components\n",
    "            print(str([curEdgeIdx,curEdgeSelect]))\n",
    "            pygletLineRange=GUI_line_search.get(str([curEdgeIdx,curEdgeSelect]))\n",
    "            for j in range(len(pygletLineRange)):\n",
    "                lineIdx1=pygletLineRange[j]\n",
    "                items.pop(lineIdx1)\n",
    "                items.insert(lineIdx1,shapes.Line(curEdge[curEdgeSelect][j][0], curEdge[curEdgeSelect][j][1], curEdge[curEdgeSelect][j+1][0], curEdge[curEdgeSelect][j+1][1], width=3,batch=batch,color=[0,150,200]))\n",
    "            print(\"test2-1\")\n",
    "                \n",
    "            \n",
    "            anchorIdx1=GUI_anchor_search.get(str([selectedPt[0].x,selectedPt[0].y]))\n",
    "            items.pop(anchorIdx1);\n",
    "            items.insert(anchorIdx1,shapes.Rectangle(selectedPt_1[0]-4, selectedPt_1[1]-4, 8, 8, batch=batch,color=[60,220,50]))\n",
    "            print(\"test2-2\")\n",
    "\n",
    "            # 3. update selectedPt releted components\n",
    "            all_anchors_dict.pop(str([selectedPt[0].x,selectedPt[0].y]))\n",
    "            all_edges_posSearch.pop(str([selectedPt[0].x,selectedPt[0].y]))  \n",
    "            print(\"test2-3\")\n",
    "            \n",
    "            selectedPt[0].x=selectedPt_1[0]\n",
    "            selectedPt[0].y=selectedPt_1[1]\n",
    "            \n",
    "            all_anchors_dict.update({str([selectedPt[0].x,selectedPt[0].y]):selectedPt[0]})\n",
    "            print([selectedPt[0].x,selectedPt[0].y])\n",
    "            all_edges_posSearch.update({str([selectedPt[0].x,selectedPt[0].y]):all_edges_pt_idx})\n",
    "            \n",
    "            GUI_anchor_search.update({str([selectedPt[0].x,selectedPt[0].y]):anchorIdx1})\n",
    "            print(\"test2-4\")\n",
    " \n",
    "            on_draw()"
   ]
  },
  {
   "cell_type": "code",
   "execution_count": 38,
   "metadata": {},
   "outputs": [],
   "source": [
    "def on_key_press(symbol, modifiers):\n",
    "\n",
    "    if symbol == key.ENTER:\n",
    "        print('The enter key was pressed.')\n",
    "        window.close()\n",
    "        pyglet.app.exit()"
   ]
  },
  {
   "cell_type": "code",
   "execution_count": 39,
   "metadata": {},
   "outputs": [],
   "source": [
    "@window.event\n",
    "def on_draw():\n",
    "    window.clear()\n",
    "    pic_sprite.draw()\n",
    "    batch.draw()\n",
    "    #for i in range(len(labels)):\n",
    "    #    labels[i].draw()\n",
    " \n",
    "    print('Redrawing.')"
   ]
  },
  {
   "cell_type": "code",
   "execution_count": null,
   "metadata": {},
   "outputs": [
    {
     "name": "stdout",
     "output_type": "stream",
     "text": [
      "Redrawing.\n",
      "Redrawing.\n"
     ]
    }
   ],
   "source": [
    "pyglet.app.run()"
   ]
  },
  {
   "cell_type": "markdown",
   "metadata": {},
   "source": [
    "# 8: reconstruct atlas based on modified edges"
   ]
  },
  {
   "cell_type": "code",
   "execution_count": null,
   "metadata": {},
   "outputs": [],
   "source": [
    "modifiedEdge"
   ]
  },
  {
   "cell_type": "code",
   "execution_count": null,
   "metadata": {},
   "outputs": [],
   "source": [
    "curEdge=all_edges.get(1782.0)"
   ]
  },
  {
   "cell_type": "code",
   "execution_count": null,
   "metadata": {},
   "outputs": [],
   "source": [
    "\n",
    "# 8-1: modify all_edges_region accordingly\n",
    "# all_edges are the modified edges\n",
    "# edge_dict_rev represent the correspondence between all_edges key and all_edges_region key\n",
    "\n",
    "for key, value in all_edges.items():\n",
    "    if key in modifiedEdge:\n",
    "        # find the corresponding region edge idx \n",
    "        region_edge_dict=unifiedIdx_regionEdgeSearch.get(key)\n",
    "\n",
    "        # modify region edges one by one\n",
    "        for keyCur, valueCur in region_edge_dict.items():\n",
    "            curEdgeRegion=all_edges_region.get(keyCur)\n",
    "            \n",
    "            for i in range(len(valueCur)):\n",
    "                curEdgeRegion[valueCur[i]]=value[0][i]\n",
    "            \n",
    "            if len(curEdgeRegion)>=10:\n",
    "                \n",
    "                curEdgeRegionY=[curEdgeRegion[i][1] for i in range(len(curEdgeRegion))]\n",
    "                winLeng=int(len(curEdgeRegion)/10)\n",
    "                if winLeng%2==0:\n",
    "                    winLeng=winLeng+1 # to odd\n",
    "                    \n",
    "                curEdgeRegionY=savgol_filter(curEdgeRegionY, winLeng, 1)\n",
    "                for i in range(len(curEdgeRegion)):\n",
    "                    curEdgeRegion[i][1]=curEdgeRegionY[i]\n",
    "                \n",
    "            all_edges_region.update({keyCur:curEdgeRegion})"
   ]
  },
  {
   "cell_type": "code",
   "execution_count": null,
   "metadata": {},
   "outputs": [],
   "source": [
    "\n",
    "# 8-2: reconstruct atlas\n",
    "modifiedAtlas=np.ones(shape=img.shape,dtype=np.uint8)*255\n",
    "\n",
    "for key, value in tqdm(all_edges_region_idx_rev.items()):\n",
    "    \n",
    "    colorCur=color_idx_dict.get(value)\n",
    "    curEdge=all_edges_region.get(key)\n",
    "\n",
    "    if len(curEdge)>0:\n",
    "        seeds=seedSearch(curEdge)\n",
    "        if len(seeds)==0:\n",
    "            seeds=[0]   \n",
    "        curEdge=distance_tracing(seeds[0],curEdge,1)\n",
    "        \n",
    "        cv2.fillPoly(modifiedAtlas, pts = [np.int32(np.array(curEdge[0]))], color =(colorCur[0],colorCur[1],colorCur[2]))\n"
   ]
  },
  {
   "cell_type": "code",
   "execution_count": null,
   "metadata": {},
   "outputs": [],
   "source": [
    "plt.imshow(modifiedAtlas)\n",
    "modifiedAtlas=np.flip(modifiedAtlas,0)\n",
    "plt.imsave(\"D:/merfish_registration_110121/reconstructedAtlas.tiff\", modifiedAtlas)"
   ]
  },
  {
   "cell_type": "code",
   "execution_count": null,
   "metadata": {},
   "outputs": [],
   "source": [
    "all_edges_region_idx.get(curIdx)"
   ]
  },
  {
   "cell_type": "code",
   "execution_count": null,
   "metadata": {},
   "outputs": [],
   "source": [
    "curEdge=all_edges_region.get(407)\n",
    "x=[curEdge[i][0] for i in range(len(curEdge))]\n",
    "y=[curEdge[i][1] for i in range(len(curEdge))]\n",
    "\n",
    "plt.plot(x,y)\n",
    "\n",
    "curEdge=all_edges_region.get(408)\n",
    "x=[curEdge[i][0] for i in range(len(curEdge))]\n",
    "y=[curEdge[i][1] for i in range(len(curEdge))]\n",
    "\n",
    "plt.plot(x,y)\n",
    "\n",
    "plt.show()"
   ]
  },
  {
   "cell_type": "code",
   "execution_count": null,
   "metadata": {},
   "outputs": [],
   "source": [
    "modifiedAtlas=np.ones(shape=img.shape,dtype=np.uint8)*255\n",
    "    \n",
    "colorCur=[11,12,13]\n",
    "curEdge=all_edges_region.get(407)\n",
    "\n",
    "\n",
    "seeds=seedSearch(curEdge)\n",
    "if len(seeds)==0:\n",
    "    seeds=[0]   \n",
    "curEdge=distance_tracing(seeds[0],curEdge,1)\n",
    "\n",
    "cv2.fillPoly(modifiedAtlas, pts = [np.int32(np.array(curEdge[0]))], color =(colorCur[0],colorCur[1],colorCur[2]))\n",
    "plt.imshow(modifiedAtlas)"
   ]
  },
  {
   "cell_type": "code",
   "execution_count": null,
   "metadata": {},
   "outputs": [],
   "source": [
    "x=[curEdge[0][i][0] for i in range(len(curEdge[0]))]\n",
    "y=[curEdge[0][i][1] for i in range(len(curEdge[0]))]\n",
    "\n",
    "plt.plot(x,y)"
   ]
  },
  {
   "cell_type": "markdown",
   "metadata": {},
   "source": [
    "# debug edge modification codes"
   ]
  },
  {
   "cell_type": "code",
   "execution_count": null,
   "metadata": {},
   "outputs": [],
   "source": [
    "dx=10\n",
    "dy=10\n",
    "selectedEdge[0]=copy.deepcopy(selectedPt[0].lines)\n",
    "selectedPt_1=[selectedPt[0].x,selectedPt[0].y]\n",
    "selectedPt_1[0]=int(selectedPt_1[0]+dx)\n",
    "selectedPt_1[1]=int(selectedPt_1[1]+dy)"
   ]
  },
  {
   "cell_type": "code",
   "execution_count": null,
   "metadata": {},
   "outputs": [],
   "source": [
    "selectedEdge[0]"
   ]
  },
  {
   "cell_type": "code",
   "execution_count": null,
   "metadata": {},
   "outputs": [],
   "source": [
    "curEdgeIdx=selectedEdge[0].pop()\n",
    "print(curEdgeIdx)\n",
    "curEdge=all_edges.get(curEdgeIdx)\n",
    "archorPts=selectedPt[0].neighbors.get(curEdgeIdx)\n",
    "\n",
    "all_edges_pt_idx=all_edges_posSearch.get(str([selectedPt[0].x,selectedPt[0].y]))\n",
    "all_edges_pt_idx_1=int(all_edges_pt_idx)\n",
    "curEdgeSelect=int(all_edges_pt_idx)\n",
    "print([all_edges_pt_idx,curEdgeSelect])"
   ]
  },
  {
   "cell_type": "code",
   "execution_count": null,
   "metadata": {},
   "outputs": [],
   "source": [
    "x=[curEdge[i][0] for i in range(0, int(len(curEdge)))]\n",
    "y=[curEdge[i][1] for i in range(0, int(len(curEdge)))]\n",
    "plt.plot(x,y)\n",
    "\n",
    "plt.plot(778,753,'X')\n",
    "\n",
    "plt.show()"
   ]
  },
  {
   "cell_type": "code",
   "execution_count": null,
   "metadata": {},
   "outputs": [],
   "source": [
    "all_edges_pt_idx=all_edges_posSearch.get(str([selectedPt[0].x,selectedPt[0].y]))\n",
    "all_edges_pt_idx_1=int(all_edges_pt_idx[0][2:])\n",
    "curEdgeSelect=int(all_edges_pt_idx[0][0])"
   ]
  },
  {
   "cell_type": "code",
   "execution_count": null,
   "metadata": {},
   "outputs": [],
   "source": [
    "selectedPt_1=[777+10, 753+10]\n"
   ]
  },
  {
   "cell_type": "code",
   "execution_count": null,
   "metadata": {},
   "outputs": [],
   "source": [
    "len(curEdge[curEdgeSelect])"
   ]
  },
  {
   "cell_type": "code",
   "execution_count": null,
   "metadata": {},
   "outputs": [],
   "source": [
    "len(archorPts)"
   ]
  },
  {
   "cell_type": "code",
   "execution_count": null,
   "metadata": {},
   "outputs": [],
   "source": [
    "curEdge1=copy.deepcopy(curEdge)\n",
    "# 1. loop all possible neighborhood points on this edge, update the whole curEdge\n",
    "for i in range(len(archorPts)):\n",
    "    print(\"all_edges_anchors_idx: \"+str(archorPts[i].x)+\",\"+str(archorPts[i].y)+\" \"+str(selectedPt_1[0])+\",\"+str(selectedPt_1[1]))\n",
    "\n",
    "    neighbor_archor1_1=[archorPts[i].x,archorPts[i].y]\n",
    "    print(\"test1-2\")\n",
    "\n",
    "    print(neighbor_archor1_1)\n",
    "    all_edges_nArchor1_idx=all_edges_posSearch.get(str([archorPts[i].x,archorPts[i].y]))\n",
    "    all_edges_nArchor1_idx_1=int(all_edges_nArchor1_idx[0][2:])               \n",
    "\n",
    "    print(\"test1-3\")\n",
    "\n",
    "    pt1=min([all_edges_nArchor1_idx_1,all_edges_pt_idx_1])\n",
    "    pt2=max([all_edges_nArchor1_idx_1,all_edges_pt_idx_1])\n",
    "    \n",
    "    pts=[neighbor_archor1_1,selectedPt_1]\n",
    "    pts_idx=[all_edges_nArchor1_idx_1,all_edges_pt_idx_1]\n",
    "    pt1_val=pts[pts_idx.index(pt1)]\n",
    "    pt2_val=pts[pts_idx.index(pt2)]\n",
    "    \n",
    "    xCur=pt1_val[0]\n",
    "    \n",
    "    print(pt1_val)\n",
    "    print(pt2_val)\n",
    "    for i in range(pt1+1,pt2):\n",
    "        if float(selectedPt_1[0])-float(neighbor_archor1_1[0])!=0:\n",
    "            # 1. slope update\n",
    "            a=(float(selectedPt_1[1])-float(neighbor_archor1_1[1]))/(float(selectedPt_1[0])-float(neighbor_archor1_1[0]))\n",
    "            b=float(neighbor_archor1_1[1])-a*float(neighbor_archor1_1[0])\n",
    "            \n",
    "            # 2. value range update, scale the x coor for each pt\n",
    "            new_x_interval=(pt2_val[0]-pt1_val[0])/(pt2-pt1)\n",
    "            \n",
    "            # 3. update pts according to new x and y\n",
    "            curPt=curEdge1[curEdgeSelect][i]\n",
    "            \n",
    "            xCur=xCur+new_x_interval\n",
    "            curPt[0]=int(xCur)\n",
    "            curPt[1]=int(a*xCur+b)\n",
    "            curEdge1[curEdgeSelect][i]=curPt \n",
    "        else:\n",
    "            curPt=curEdge1[curEdgeSelect][i]\n",
    "            curPt[1]=selectedPt_1[1]\n",
    "            curEdge1[curEdgeSelect][i]=curPt \n",
    "\n",
    "    curEdge1[curEdgeSelect][pt1]=pt1_val\n",
    "    curEdge1[curEdgeSelect][pt2]=pt2_val\n",
    "    print(\"test1-5\")"
   ]
  },
  {
   "cell_type": "code",
   "execution_count": null,
   "metadata": {},
   "outputs": [],
   "source": [
    "[selectedPt[0].x,selectedPt[0].y]"
   ]
  },
  {
   "cell_type": "code",
   "execution_count": null,
   "metadata": {},
   "outputs": [],
   "source": [
    "x=[curEdge1[curEdgeSelect][i][0] for i in range(0, int(len(curEdge1[curEdgeSelect])))]\n",
    "y=[curEdge1[curEdgeSelect][i][1] for i in range(0, int(len(curEdge1[curEdgeSelect])))]\n",
    "plt.plot(x,y)\n",
    "\n",
    "x1=[curEdge[curEdgeSelect][i][0] for i in range(0, int(len(curEdge[curEdgeSelect])))]\n",
    "y1=[curEdge[curEdgeSelect][i][1] for i in range(0, int(len(curEdge[curEdgeSelect])))]\n",
    "plt.plot(x1,y1)\n",
    "\n",
    "plt.plot(curEdge1[curEdgeSelect][35][0],curEdge1[curEdgeSelect][35][1],'h')\n",
    "plt.plot(787,763,'o')\n",
    "plt.plot(743,763,'X')\n",
    "\n",
    "plt.show()"
   ]
  },
  {
   "cell_type": "code",
   "execution_count": null,
   "metadata": {},
   "outputs": [],
   "source": [
    "curEdge"
   ]
  },
  {
   "cell_type": "code",
   "execution_count": null,
   "metadata": {},
   "outputs": [],
   "source": [
    "neighbor_archor1_1=[curEdge1[curEdgeSelect][35][0],curEdge1[curEdgeSelect][35][1]]\n",
    "a1=(float(selectedPt_1[1])-float(neighbor_archor1_1[1]))/(float(selectedPt_1[0])-float(neighbor_archor1_1[0]))\n",
    "b1=float(neighbor_archor1_1[1])-a1*float(neighbor_archor1_1[0])"
   ]
  },
  {
   "cell_type": "code",
   "execution_count": null,
   "metadata": {},
   "outputs": [],
   "source": [
    "[a1,b1]"
   ]
  },
  {
   "cell_type": "code",
   "execution_count": null,
   "metadata": {},
   "outputs": [],
   "source": [
    "[a1*float(neighbor_archor1_1[0])+b1,float(neighbor_archor1_1[1])]"
   ]
  },
  {
   "cell_type": "code",
   "execution_count": null,
   "metadata": {},
   "outputs": [],
   "source": [
    "[a1*float(selectedPt_1[0])+b1,float(selectedPt_1[1])]"
   ]
  },
  {
   "cell_type": "code",
   "execution_count": null,
   "metadata": {},
   "outputs": [],
   "source": [
    "[a1*float(curEdge1[curEdgeSelect][47][0])+b1,float(curEdge1[curEdgeSelect][47][1])]"
   ]
  },
  {
   "cell_type": "code",
   "execution_count": null,
   "metadata": {},
   "outputs": [],
   "source": [
    "a2=(float(curEdge1[curEdgeSelect][37][1])-float(neighbor_archor1_1[1]))/(float(curEdge1[curEdgeSelect][37][0])-float(neighbor_archor1_1[0]))\n",
    "a2"
   ]
  },
  {
   "cell_type": "code",
   "execution_count": null,
   "metadata": {},
   "outputs": [],
   "source": []
  }
 ],
 "metadata": {
  "kernelspec": {
   "display_name": "Python 3",
   "language": "python",
   "name": "python3"
  },
  "language_info": {
   "codemirror_mode": {
    "name": "ipython",
    "version": 3
   },
   "file_extension": ".py",
   "mimetype": "text/x-python",
   "name": "python",
   "nbconvert_exporter": "python",
   "pygments_lexer": "ipython3",
   "version": "3.8.5"
  }
 },
 "nbformat": 4,
 "nbformat_minor": 4
}
